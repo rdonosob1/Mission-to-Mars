{
 "cells": [
  {
   "cell_type": "code",
   "execution_count": 1,
   "id": "816c968a",
   "metadata": {},
   "outputs": [],
   "source": [
    "from splinter import Browser\n",
    "from bs4 import BeautifulSoup as soup\n",
    "from webdriver_manager.chrome import ChromeDriverManager\n",
    "import pandas as pd"
   ]
  },
  {
   "cell_type": "code",
   "execution_count": 2,
   "id": "c0b9e52e",
   "metadata": {},
   "outputs": [],
   "source": [
    "executable_path = {'executable_path': ChromeDriverManager().install()}\n",
    "browser = Browser('chrome', **executable_path, headless=False)"
   ]
  },
  {
   "cell_type": "code",
   "execution_count": 3,
   "id": "b5e48512",
   "metadata": {},
   "outputs": [],
   "source": [
    "url = 'https://redplanetscience.com/'\n",
    "browser.visit(url)"
   ]
  },
  {
   "cell_type": "code",
   "execution_count": 4,
   "id": "50adba24",
   "metadata": {},
   "outputs": [],
   "source": [
    "html = browser.html\n",
    "quote_soup = soup(html, 'html.parser')"
   ]
  },
  {
   "cell_type": "code",
   "execution_count": 5,
   "id": "e6d756b7",
   "metadata": {},
   "outputs": [],
   "source": [
    "titles = quote_soup.find_all(\"div\", class_=\"list_text\")"
   ]
  },
  {
   "cell_type": "code",
   "execution_count": 6,
   "id": "c700eb2d",
   "metadata": {},
   "outputs": [
    {
     "data": {
      "text/plain": [
       "[{'header': 'Mars 2020 Stands on Its Own Six Wheels',\n",
       "  'preview': \"In time-lapse video, taken at JPL, captures the first time NASA's Mars 2020 rover carries its full weight on its legs and wheels.\"},\n",
       " {'header': \"NASA Engineers Checking InSight's Weather Sensors\",\n",
       "  'preview': 'An electronics issue is suspected to be preventing the sensors from sharing their data about Mars weather with the spacecraft.'},\n",
       " {'header': \"A Year of Surprising Science From NASA's InSight Mars Mission\",\n",
       "  'preview': \"A batch of new papers summarizes the lander's findings above and below the surface of the Red Planet.\"},\n",
       " {'header': \"NASA's Curiosity Mars Rover Snaps Its Highest-Resolution Panorama Yet\",\n",
       "  'preview': 'To go along with the stunning 1.8-billion-pixel image, a new video offers a sweeping view of the Red Planet.'},\n",
       " {'header': \"NASA's Mars 2020 Will Hunt for Microscopic Fossils\",\n",
       "  'preview': \"A new paper identifies a ring of minerals at the rover's landing site that are ideal for fossilizing microbial life.\"},\n",
       " {'header': \"NASA's Perseverance Rover 100 Days Out\",\n",
       "  'preview': \"Mark your calendars: The agency's latest rover has only about 8,640,000 seconds to go before it touches down on the Red Planet, becoming history's next Mars car.\"},\n",
       " {'header': \"Alabama High School Student Names NASA's Mars Helicopter\",\n",
       "  'preview': \"Vaneeza Rupani's essay was chosen as the name for the small spacecraft, which will mark NASA's first attempt at powered flight on another planet.\"},\n",
       " {'header': 'Two Rovers to Roll on Mars Again: Curiosity and Mars 2020',\n",
       "  'preview': 'They look like twins. But under the hood, the rover currently exploring the Red Planet and the one launching there this summer have distinct science tools and roles to play.'},\n",
       " {'header': \"NASA's Perseverance Rover Goes Through Trials by Fire, Ice, Light and Sound\",\n",
       "  'preview': \"The agency's new Mars rover is put through a series of tests in vacuum chambers, acoustic chambers and more to get ready for the Red Planet.\"},\n",
       " {'header': \"NASA Wins 4 Webbys, 4 People's Voice Awards\",\n",
       "  'preview': 'Winners include the JPL-managed \"Send Your Name to Mars\" campaign, NASA\\'s Global Climate Change website and Solar System Interactive.'},\n",
       " {'header': 'With Mars Methane Mystery Unsolved, Curiosity Serves Scientists a New One: Oxygen',\n",
       "  'preview': 'For the first time in the history of space exploration, scientists have measured the seasonal changes in the gases that fill the air directly above the surface of Gale Crater on Mars. '},\n",
       " {'header': \"How NASA's Perseverance Mars Team Adjusted to Work in the Time of Coronavirus \",\n",
       "  'preview': 'Like much of the rest of the world, the Mars rover team is pushing forward with its mission-critical work while putting the health and safety of their colleagues and community first.'},\n",
       " {'header': \"NASA's Perseverance Rover Mission Getting in Shape for Launch\",\n",
       "  'preview': 'Stacking spacecraft components on top of each other is one of the final assembly steps before a mission launches to the Red Planet. '},\n",
       " {'header': 'Independent Review Indicates NASA Prepared for Mars Sample Return Campaign',\n",
       "  'preview': 'NASA released an independent review report Tuesday indicating the agency is well positioned for its Mars Sample Return campaign to bring pristine samples from Mars to Earth for scientific study.'},\n",
       " {'header': \"From JPL's Mailroom to Mars and Beyond\",\n",
       "  'preview': 'Bill Allen has thrived as the mechanical systems design lead for three Mars rover missions, but he got his start as a teenager sorting letters for the NASA center.'}]"
      ]
     },
     "execution_count": 6,
     "metadata": {},
     "output_type": "execute_result"
    }
   ],
   "source": [
    "titles_list = []\n",
    "for title in titles:\n",
    "    summary = {}\n",
    "    header = title.find('div', class_=\"content_title\").text\n",
    "    preview = title.find('div', class_=\"article_teaser_body\").text\n",
    "    summary[\"header\"]= header\n",
    "    summary[\"preview\"]= preview\n",
    "    titles_list.append(summary)\n",
    "titles_list\n",
    "\n"
   ]
  },
  {
   "cell_type": "code",
   "execution_count": 14,
   "id": "bcd7e174",
   "metadata": {},
   "outputs": [],
   "source": [
    "browser.quit()"
   ]
  },
  {
   "cell_type": "code",
   "execution_count": 7,
   "id": "145b4186",
   "metadata": {},
   "outputs": [],
   "source": [
    "title_list_df=pd.DataFrame(titles_list)"
   ]
  },
  {
   "cell_type": "code",
   "execution_count": 8,
   "id": "f517890a",
   "metadata": {},
   "outputs": [
    {
     "data": {
      "text/html": [
       "<div>\n",
       "<style scoped>\n",
       "    .dataframe tbody tr th:only-of-type {\n",
       "        vertical-align: middle;\n",
       "    }\n",
       "\n",
       "    .dataframe tbody tr th {\n",
       "        vertical-align: top;\n",
       "    }\n",
       "\n",
       "    .dataframe thead th {\n",
       "        text-align: right;\n",
       "    }\n",
       "</style>\n",
       "<table border=\"1\" class=\"dataframe\">\n",
       "  <thead>\n",
       "    <tr style=\"text-align: right;\">\n",
       "      <th></th>\n",
       "      <th>header</th>\n",
       "      <th>preview</th>\n",
       "    </tr>\n",
       "  </thead>\n",
       "  <tbody>\n",
       "    <tr>\n",
       "      <th>0</th>\n",
       "      <td>Mars 2020 Stands on Its Own Six Wheels</td>\n",
       "      <td>In time-lapse video, taken at JPL, captures th...</td>\n",
       "    </tr>\n",
       "    <tr>\n",
       "      <th>1</th>\n",
       "      <td>NASA Engineers Checking InSight's Weather Sensors</td>\n",
       "      <td>An electronics issue is suspected to be preven...</td>\n",
       "    </tr>\n",
       "    <tr>\n",
       "      <th>2</th>\n",
       "      <td>A Year of Surprising Science From NASA's InSig...</td>\n",
       "      <td>A batch of new papers summarizes the lander's ...</td>\n",
       "    </tr>\n",
       "    <tr>\n",
       "      <th>3</th>\n",
       "      <td>NASA's Curiosity Mars Rover Snaps Its Highest-...</td>\n",
       "      <td>To go along with the stunning 1.8-billion-pixe...</td>\n",
       "    </tr>\n",
       "    <tr>\n",
       "      <th>4</th>\n",
       "      <td>NASA's Mars 2020 Will Hunt for Microscopic Fos...</td>\n",
       "      <td>A new paper identifies a ring of minerals at t...</td>\n",
       "    </tr>\n",
       "    <tr>\n",
       "      <th>5</th>\n",
       "      <td>NASA's Perseverance Rover 100 Days Out</td>\n",
       "      <td>Mark your calendars: The agency's latest rover...</td>\n",
       "    </tr>\n",
       "    <tr>\n",
       "      <th>6</th>\n",
       "      <td>Alabama High School Student Names NASA's Mars ...</td>\n",
       "      <td>Vaneeza Rupani's essay was chosen as the name ...</td>\n",
       "    </tr>\n",
       "    <tr>\n",
       "      <th>7</th>\n",
       "      <td>Two Rovers to Roll on Mars Again: Curiosity an...</td>\n",
       "      <td>They look like twins. But under the hood, the ...</td>\n",
       "    </tr>\n",
       "    <tr>\n",
       "      <th>8</th>\n",
       "      <td>NASA's Perseverance Rover Goes Through Trials ...</td>\n",
       "      <td>The agency's new Mars rover is put through a s...</td>\n",
       "    </tr>\n",
       "    <tr>\n",
       "      <th>9</th>\n",
       "      <td>NASA Wins 4 Webbys, 4 People's Voice Awards</td>\n",
       "      <td>Winners include the JPL-managed \"Send Your Nam...</td>\n",
       "    </tr>\n",
       "    <tr>\n",
       "      <th>10</th>\n",
       "      <td>With Mars Methane Mystery Unsolved, Curiosity ...</td>\n",
       "      <td>For the first time in the history of space exp...</td>\n",
       "    </tr>\n",
       "    <tr>\n",
       "      <th>11</th>\n",
       "      <td>How NASA's Perseverance Mars Team Adjusted to ...</td>\n",
       "      <td>Like much of the rest of the world, the Mars r...</td>\n",
       "    </tr>\n",
       "    <tr>\n",
       "      <th>12</th>\n",
       "      <td>NASA's Perseverance Rover Mission Getting in S...</td>\n",
       "      <td>Stacking spacecraft components on top of each ...</td>\n",
       "    </tr>\n",
       "    <tr>\n",
       "      <th>13</th>\n",
       "      <td>Independent Review Indicates NASA Prepared for...</td>\n",
       "      <td>NASA released an independent review report Tue...</td>\n",
       "    </tr>\n",
       "    <tr>\n",
       "      <th>14</th>\n",
       "      <td>From JPL's Mailroom to Mars and Beyond</td>\n",
       "      <td>Bill Allen has thrived as the mechanical syste...</td>\n",
       "    </tr>\n",
       "  </tbody>\n",
       "</table>\n",
       "</div>"
      ],
      "text/plain": [
       "                                               header  \\\n",
       "0              Mars 2020 Stands on Its Own Six Wheels   \n",
       "1   NASA Engineers Checking InSight's Weather Sensors   \n",
       "2   A Year of Surprising Science From NASA's InSig...   \n",
       "3   NASA's Curiosity Mars Rover Snaps Its Highest-...   \n",
       "4   NASA's Mars 2020 Will Hunt for Microscopic Fos...   \n",
       "5              NASA's Perseverance Rover 100 Days Out   \n",
       "6   Alabama High School Student Names NASA's Mars ...   \n",
       "7   Two Rovers to Roll on Mars Again: Curiosity an...   \n",
       "8   NASA's Perseverance Rover Goes Through Trials ...   \n",
       "9         NASA Wins 4 Webbys, 4 People's Voice Awards   \n",
       "10  With Mars Methane Mystery Unsolved, Curiosity ...   \n",
       "11  How NASA's Perseverance Mars Team Adjusted to ...   \n",
       "12  NASA's Perseverance Rover Mission Getting in S...   \n",
       "13  Independent Review Indicates NASA Prepared for...   \n",
       "14             From JPL's Mailroom to Mars and Beyond   \n",
       "\n",
       "                                              preview  \n",
       "0   In time-lapse video, taken at JPL, captures th...  \n",
       "1   An electronics issue is suspected to be preven...  \n",
       "2   A batch of new papers summarizes the lander's ...  \n",
       "3   To go along with the stunning 1.8-billion-pixe...  \n",
       "4   A new paper identifies a ring of minerals at t...  \n",
       "5   Mark your calendars: The agency's latest rover...  \n",
       "6   Vaneeza Rupani's essay was chosen as the name ...  \n",
       "7   They look like twins. But under the hood, the ...  \n",
       "8   The agency's new Mars rover is put through a s...  \n",
       "9   Winners include the JPL-managed \"Send Your Nam...  \n",
       "10  For the first time in the history of space exp...  \n",
       "11  Like much of the rest of the world, the Mars r...  \n",
       "12  Stacking spacecraft components on top of each ...  \n",
       "13  NASA released an independent review report Tue...  \n",
       "14  Bill Allen has thrived as the mechanical syste...  "
      ]
     },
     "execution_count": 8,
     "metadata": {},
     "output_type": "execute_result"
    }
   ],
   "source": [
    "title_list_df"
   ]
  },
  {
   "cell_type": "code",
   "execution_count": 12,
   "id": "c6d6a227",
   "metadata": {},
   "outputs": [],
   "source": [
    "title_list_df.to_json(\"mars_data_challenge_part_1.json\")"
   ]
  },
  {
   "cell_type": "code",
   "execution_count": 13,
   "id": "ddf0de08",
   "metadata": {},
   "outputs": [
    {
     "name": "stdout",
     "output_type": "stream",
     "text": [
      "{\"header\":{\"0\":\"Mars 2020 Stands on Its Own Six Wheels\",\"1\":\"NASA Engineers Checking InSight's Weather Sensors\",\"2\":\"A Year of Surprising Science From NASA's InSight Mars Mission\",\"3\":\"NASA's Curiosity Mars Rover Snaps Its Highest-Resolution Panorama Yet\",\"4\":\"NASA's Mars 2020 Will Hunt for Microscopic Fossils\",\"5\":\"NASA's Perseverance Rover 100 Days Out\",\"6\":\"Alabama High School Student Names NASA's Mars Helicopter\",\"7\":\"Two Rovers to Roll on Mars Again: Curiosity and Mars 2020\",\"8\":\"NASA's Perseverance Rover Goes Through Trials by Fire, Ice, Light and Sound\",\"9\":\"NASA Wins 4 Webbys, 4 People's Voice Awards\",\"10\":\"With Mars Methane Mystery Unsolved, Curiosity Serves Scientists a New One: Oxygen\",\"11\":\"How NASA's Perseverance Mars Team Adjusted to Work in the Time of Coronavirus \",\"12\":\"NASA's Perseverance Rover Mission Getting in Shape for Launch\",\"13\":\"Independent Review Indicates NASA Prepared for Mars Sample Return Campaign\",\"14\":\"From JPL's Mailroom to Mars and Beyond\"},\"preview\":{\"0\":\"In time-lapse video, taken at JPL, captures the first time NASA's Mars 2020 rover carries its full weight on its legs and wheels.\",\"1\":\"An electronics issue is suspected to be preventing the sensors from sharing their data about Mars weather with the spacecraft.\",\"2\":\"A batch of new papers summarizes the lander's findings above and below the surface of the Red Planet.\",\"3\":\"To go along with the stunning 1.8-billion-pixel image, a new video offers a sweeping view of the Red Planet.\",\"4\":\"A new paper identifies a ring of minerals at the rover's landing site that are ideal for fossilizing microbial life.\",\"5\":\"Mark your calendars: The agency's latest rover has only about 8,640,000 seconds to go before it touches down on the Red Planet, becoming history's next Mars car.\",\"6\":\"Vaneeza Rupani's essay was chosen as the name for the small spacecraft, which will mark NASA's first attempt at powered flight on another planet.\",\"7\":\"They look like twins. But under the hood, the rover currently exploring the Red Planet and the one launching there this summer have distinct science tools and roles to play.\",\"8\":\"The agency's new Mars rover is put through a series of tests in vacuum chambers, acoustic chambers and more to get ready for the Red Planet.\",\"9\":\"Winners include the JPL-managed \\\"Send Your Name to Mars\\\" campaign, NASA's Global Climate Change website and Solar System Interactive.\",\"10\":\"For the first time in the history of space exploration, scientists have measured the seasonal changes in the gases that fill the air directly above the surface of Gale Crater on Mars. \",\"11\":\"Like much of the rest of the world, the Mars rover team is pushing forward with its mission-critical work while putting the health and safety of their colleagues and community first.\",\"12\":\"Stacking spacecraft components on top of each other is one of the final assembly steps before a mission launches to the Red Planet. \",\"13\":\"NASA released an independent review report Tuesday indicating the agency is well positioned for its Mars Sample Return campaign to bring pristine samples from Mars to Earth for scientific study.\",\"14\":\"Bill Allen has thrived as the mechanical systems design lead for three Mars rover missions, but he got his start as a teenager sorting letters for the NASA center.\"}}\n"
     ]
    }
   ],
   "source": [
    "json = title_list_df.to_json()\n",
    "print(json)"
   ]
  }
 ],
 "metadata": {
  "kernelspec": {
   "display_name": "Python 3 (ipykernel)",
   "language": "python",
   "name": "python3"
  },
  "language_info": {
   "codemirror_mode": {
    "name": "ipython",
    "version": 3
   },
   "file_extension": ".py",
   "mimetype": "text/x-python",
   "name": "python",
   "nbconvert_exporter": "python",
   "pygments_lexer": "ipython3",
   "version": "3.9.12"
  }
 },
 "nbformat": 4,
 "nbformat_minor": 5
}
